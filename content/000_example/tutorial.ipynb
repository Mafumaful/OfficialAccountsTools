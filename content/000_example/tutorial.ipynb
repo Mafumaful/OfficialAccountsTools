{
 "cells": [
  {
   "cell_type": "markdown",
   "metadata": {},
   "source": [
    "# 使用manim制作一些标题和小节\n",
    "\n",
    "在本次教程里面，我将粗略介绍一下怎么使用mainimn制作一些标题和小节。"
   ]
  },
  {
   "cell_type": "code",
   "execution_count": null,
   "metadata": {},
   "outputs": [],
   "source": [
    "# 这个是用来运行安装manim的脚本，如果已经安装了manim，可以忽略这个脚本\n",
    "# using conda or mamba\n",
    "!conda create -n my-manim-environment\n",
    "!conda activate my-manim-environment\n",
    "!conda install -c conda-forge manim\n",
    "# using pixi\n",
    "!pixi init\n",
    "!pixi add manim"
   ]
  },
  {
   "cell_type": "code",
   "execution_count": null,
   "metadata": {},
   "outputs": [],
   "source": [
    "from manim import *\n",
    "\n",
    "class SquareToCircle(Scene):\n",
    "    def construct(self):\n",
    "        square = Square()\n",
    "        circle = Circle()\n",
    "        self.play(Create(square))\n",
    "        self.play(Transform(square, circle))\n",
    "        self.play(FadeOut(square))\n",
    "\n",
    "if __name__ == \"__main__\":\n",
    "    config.background_color = WHITE\n",
    "    config.pixel_height = 480\n",
    "    config.pixel_width = 854\n",
    "    config.frame_rate = 30\n",
    "    scene = SquareToCircle()\n",
    "    scene.render()\n"
   ]
  },
  {
   "cell_type": "markdown",
   "metadata": {},
   "source": [
    "## 制作gif\n",
    "因为我们想要把制作的内容插入到公众号里面，需要我们把内容转化成gif格式。下面是我使用的命令："
   ]
  },
  {
   "cell_type": "code",
   "execution_count": 8,
   "metadata": {},
   "outputs": [
    {
     "name": "stdout",
     "output_type": "stream",
     "text": [
      "media  run.ipynb\n"
     ]
    }
   ],
   "source": [
    "!cd media/\n",
    "!manim -i test.py test"
   ]
  },
  {
   "cell_type": "markdown",
   "metadata": {},
   "source": [
    "这里的test是目标文件的名称，运行这段命令后，就会在当前目录下生成一个gif文件"
   ]
  }
 ],
 "metadata": {
  "kernelspec": {
   "display_name": "my-manim-environment",
   "language": "python",
   "name": "python3"
  },
  "language_info": {
   "codemirror_mode": {
    "name": "ipython",
    "version": 3
   },
   "file_extension": ".py",
   "mimetype": "text/x-python",
   "name": "python",
   "nbconvert_exporter": "python",
   "pygments_lexer": "ipython3",
   "version": "3.10.14"
  }
 },
 "nbformat": 4,
 "nbformat_minor": 2
}
