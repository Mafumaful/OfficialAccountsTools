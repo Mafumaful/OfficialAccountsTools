{
 "cells": [
  {
   "cell_type": "markdown",
   "metadata": {},
   "source": [
    "# 使用manim制作一些标题和小节\n",
    "\n",
    "在本次教程里面，我将粗略介绍一下怎么使用mainimn制作一些标题和小节。"
   ]
  },
  {
   "cell_type": "code",
   "execution_count": null,
   "metadata": {},
   "outputs": [],
   "source": [
    "# 这个是用来运行安装manim的脚本，如果已经安装了manim，可以忽略这个脚本\n",
    "# using conda or mamba\n",
    "!conda create -n my-manim-environment\n",
    "!conda activate my-manim-environment\n",
    "!conda install -c conda-forge manim\n",
    "# using pixi\n",
    "!pixi init\n",
    "!pixi add manim"
   ]
  },
  {
   "cell_type": "code",
   "execution_count": null,
   "metadata": {},
   "outputs": [],
   "source": [
    "from manim import *\n",
    "\n",
    "class SquareToCircle(Scene):\n",
    "    def construct(self):\n",
    "        square = Square()\n",
    "        circle = Circle()\n",
    "        self.play(Create(square))\n",
    "        self.play(Transform(square, circle))\n",
    "        self.play(FadeOut(square))\n",
    "\n",
    "if __name__ == \"__main__\":\n",
    "    config.background_color = WHITE\n",
    "    config.pixel_height = 480\n",
    "    config.pixel_width = 854\n",
    "    config.frame_rate = 30\n",
    "    scene = SquareToCircle()\n",
    "    scene.render()\n"
   ]
  },
  {
   "cell_type": "markdown",
   "metadata": {},
   "source": [
    "## 制作gif\n",
    "因为我们想要把制作的内容插入到公众号里面，需要我们把内容转化成gif格式。下面是我使用的命令："
   ]
  },
  {
   "cell_type": "code",
   "execution_count": null,
   "metadata": {},
   "outputs": [],
   "source": [
    "!manim -i SquareToCircle.py test"
   ]
  },
  {
   "cell_type": "markdown",
   "metadata": {},
   "source": [
    "这里的test是目标文件的名称，运行这段命令后，就会在当前目录下生成一个gif文件\n",
    "\n",
    "## 制作一个小节"
   ]
  },
  {
   "cell_type": "code",
   "execution_count": null,
   "metadata": {},
   "outputs": [],
   "source": [
    "from manim import *\n",
    "\n",
    "class TextTransform(Scene):\n",
    "    def construct(self):\n",
    "        # Create the initial and target text\n",
    "        initial_text = Text(\"文章标题\", color=BLACK, font=\"msjh\")\n",
    "        initial_text._set_color_by_t2c({\"文章\": GREEN, \"标题\": PURE_BLUE})\n",
    "\n",
    "        target_text = Text(\"这个是小节标题\", color=BLACK, font=\"msjh\")\n",
    "        target_text._set_color_by_t2c({\"这个是\": PURE_RED, \"小节\": DARKER_GREY, \"标题\": PURPLE})\n",
    "\n",
    "        # Display the initial text\n",
    "        self.play(Write(initial_text))\n",
    "        self.wait(1)\n",
    "\n",
    "        # Transform the initial text into the target text\n",
    "        self.play(Transform(initial_text, target_text))\n",
    "        self.wait(1)\n",
    "\n",
    "# if __name__ == \"__main__\":\n",
    "from manim import config\n",
    "config.background_color = WHITE\n",
    "config.pixel_height = 150\n",
    "config.pixel_width = 854\n",
    "config.frame_rate = 30\n",
    "scene = TextTransform()\n",
    "scene.render()\n",
    "\n"
   ]
  },
  {
   "cell_type": "code",
   "execution_count": null,
   "metadata": {},
   "outputs": [],
   "source": [
    "# 然后我们运行这个脚本制作目标动画\n",
    "!manim -pql -i TextTransform.py TextTransform"
   ]
  },
  {
   "cell_type": "markdown",
   "metadata": {},
   "source": [
    "当然，我们在一些文字密集处可以适当添加一点动画效果，这样可以让观众更容易理解我们的内容。"
   ]
  },
  {
   "cell_type": "code",
   "execution_count": null,
   "metadata": {},
   "outputs": [],
   "source": [
    "# svg to text\n",
    "\n",
    "from manim import *\n",
    "\n",
    "class SVGToText(Scene):\n",
    "    def construct(self):\n",
    "        # Load the SVG file\n",
    "        svg_path = \"../../svg/hotel-svgrepo-com.svg\"\n",
    "        svg_mobject = SVGMobject(svg_path)\n",
    "        \n",
    "        # Scale and position the SVG as needed\n",
    "        svg_mobject.scale(2)\n",
    "        svg_mobject.to_edge(UP)\n",
    "\n",
    "        # Add the SVG to the scene\n",
    "        self.play(DrawBorderThenFill(svg_mobject))\n",
    "        self.wait(1)\n",
    "\n",
    "        # Create a Text object\n",
    "        text = Text(\"文章标题\", color=BLACK, font=\"msjh\")\n",
    "        \n",
    "        # Position the text where you want it to be\n",
    "        text.next_to(svg_mobject, DOWN)\n",
    "\n",
    "        # Add the text to the scene\n",
    "        self.play(Write(text))\n",
    "        self.wait(2)\n",
    "\n",
    "        # Optionally, you can add further animations or manipulations\n",
    "\n",
    "\n",
    "# import config\n",
    "from manim import config\n",
    "config.pixel_height = 1080\n",
    "config.pixel_width = 1920\n",
    "config.frame_height = 7.0\n",
    "config.frame_width = 14.0\n",
    "config.frame_rate = 30\n",
    "# white background\n",
    "config.background_color = WHITE\n",
    "scene = SVGToText()\n",
    "scene.render()"
   ]
  },
  {
   "cell_type": "code",
   "execution_count": null,
   "metadata": {},
   "outputs": [],
   "source": [
    "!manim -pql -i SvgToText.py svg2text"
   ]
  }
 ],
 "metadata": {
  "kernelspec": {
   "display_name": "my-manim-environment",
   "language": "python",
   "name": "python3"
  },
  "language_info": {
   "codemirror_mode": {
    "name": "ipython",
    "version": 3
   },
   "file_extension": ".py",
   "mimetype": "text/x-python",
   "name": "python",
   "nbconvert_exporter": "python",
   "pygments_lexer": "ipython3",
   "version": "3.10.14"
  }
 },
 "nbformat": 4,
 "nbformat_minor": 2
}
